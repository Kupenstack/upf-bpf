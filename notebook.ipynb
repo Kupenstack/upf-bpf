{
 "metadata": {
  "orig_nbformat": 2,
  "kernelspec": {
   "name": "python3",
   "display_name": "Python 3",
   "language": "python"
  }
 },
 "nbformat": 4,
 "nbformat_minor": 2,
 "cells": [
  {
   "source": [
    "## Downlink Max Throughput "
   ],
   "cell_type": "markdown",
   "metadata": {}
  },
  {
   "source": [
    "import json\n",
    "import numpy as np\n",
    "import matplotlib.pyplot as plt\n",
    "\n",
    "def get_throughputs(dict_output):\n",
    "    array = []\n",
    "    for item in dict_output[\"items\"]:\n",
    "        array.append(item[\"throughput\"])\n",
    "    return np.array(array)\n",
    "\n",
    "def get_soft_loads(dict_output):\n",
    "    matriz = []\n",
    "    for item in dict_output[\"items\"]:\n",
    "        array = []\n",
    "        ids = []\n",
    "        for i, cpu_load in enumerate(item[\"mpstat\"][\"sysstat\"][\"hosts\"][0][\"statistics\"][0][\"cpu-load\"]):\n",
    "            array.append(cpu_load[\"soft\"])\n",
    "            # It will override each iteraction. \n",
    "            ids.append(cpu_load[\"cpu\"])\n",
    "        matriz.append(array)\n",
    "    return np.array(matriz), np.array(ids)\n",
    "\n",
    "\n",
    "reports_path = \"tests/reports\"\n",
    "img_path = os.path.join(reports_path, \"img\")\n",
    "filename = os.path.join(reports_path, \"DownlinkMaxThoughtput.json\")\n",
    "with open(filepath,\"r\") as report:\n",
    "    dict_output = json.load(report)\n",
    "    y = get_throughputs(dict_output)\n",
    "    y_loads, ids = get_soft_loads(dict_output)\n",
    "\n",
    "x = np.arange(1, 7, 1)\n",
    "\n",
    "fig, ax = plt.subplots()\n",
    "ax.plot(x, y, 'o', ls='-', ms=4)\n",
    "\n",
    "test_title = 'Downlink Max Throughput'\n",
    "ax.set(xlabel='Number of cores', ylabel='Packet rate (Mpps)',\n",
    "       title=test_title)\n",
    "ax.grid()\n",
    "\n",
    "n_tests , _= y_loads.shape\n",
    "for i, y_load in enumerate(y_loads, 1):   \n",
    "    fig2, ax = plt.subplots()    \n",
    "    # Skip cpu \"all\"\n",
    "    y = y_load[1:]\n",
    "    x = ids[1:]\n",
    "    ax.bar(x, y)\n",
    "    mean = round(np.mean(y[:i]),2)\n",
    "    plt.axhline(mean, color=\"red\", linestyle=\"--\")\n",
    "    ax.text(0, mean + 1, \"μ = {}\".format(mean))\n",
    "    load_title = 'Load per Core - {} Rx Queue'.format(i) \n",
    "    ax.set(xlabel='# Core', ylabel='Load',\n",
    "       title=load_title)\n",
    "    ax.yaxis.grid()\n",
    "    plt.savefig(os.path.join(img_path, test_title + load_title))\n",
    "\n",
    "\n",
    "print (y)\n"
   ],
   "cell_type": "code",
   "metadata": {},
   "execution_count": null,
   "outputs": []
  },
  {
   "source": [
    "## Uplink Max Throughput"
   ],
   "cell_type": "markdown",
   "metadata": {}
  },
  {
   "cell_type": "code",
   "execution_count": null,
   "metadata": {},
   "outputs": [],
   "source": []
  }
 ]
}