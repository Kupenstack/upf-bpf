{
 "metadata": {
  "orig_nbformat": 2,
  "kernelspec": {
   "name": "python3",
   "display_name": "Python 3",
   "language": "python"
  }
 },
 "nbformat": 4,
 "nbformat_minor": 2,
 "cells": [
  {
   "source": [
    "## Downlink Max Throughput "
   ],
   "cell_type": "markdown",
   "metadata": {}
  },
  {
   "source": [
    "import json\n",
    "import numpy as np\n",
    "import matplotlib.pyplot as plt\n",
    "\n",
    "def get_throughputs(json_output):\n",
    "    dict_output = json.load(json_output)\n",
    "    array = []\n",
    "    for item in dict_output[\"items\"]:\n",
    "        array.append(item[\"throughput\"])\n",
    "    return np.array(array)\n",
    "\n",
    "filepath=\"tests/reports/DownlinkMaxThoughtput.json\"\n",
    "with open(filepath,\"r\") as report:\n",
    "    y = get_throughputs(report)\n",
    "\n",
    "x = np.arange(1, 13, 1)\n",
    "\n",
    "fig, ax = plt.subplots()\n",
    "ax.plot(x, y, 'o', ls='-', ms=4)\n",
    "\n",
    "ax.set(xlabel='Number of cores', ylabel='Packet rate (Mpps)',\n",
    "       title='Downlink Max Throughput')\n",
    "ax.grid()\n",
    "\n",
    "print (y)"
   ],
   "cell_type": "code",
   "metadata": {},
   "execution_count": null,
   "outputs": []
  },
  {
   "source": [
    "## Uplink Max Throughput"
   ],
   "cell_type": "markdown",
   "metadata": {}
  },
  {
   "cell_type": "code",
   "execution_count": null,
   "metadata": {},
   "outputs": [],
   "source": []
  }
 ]
}